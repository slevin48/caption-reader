{
 "cells": [
  {
   "cell_type": "markdown",
   "metadata": {},
   "source": [
    "## WebVTT caption file\n",
    "\n",
    "- https://developer.mozilla.org/en-US/docs/Web/API/WebVTT_API\n",
    "- https://www.w3.org/TR/webvtt1/\n",
    "- https://webvtt-py.readthedocs.io/en/latest/usage.html\n",
    "- https://www.3playmedia.com/blog/how-to-create-a-webvtt-file/"
   ]
  },
  {
   "cell_type": "code",
   "execution_count": null,
   "metadata": {},
   "outputs": [],
   "source": [
    "# Reading WebVTT caption files from file-like object\n",
    "import webvtt\n",
    "import requests\n",
    "from io import StringIO\n",
    "\n",
    "url = \"https://gist.githubusercontent.com/slevin48/4e6f7343376aef064992055b4c6da1bb/raw/e19399fbccbc069a2af4266e5120ae6bad62699a/sample.vtt\"\n",
    "\n",
    "payload = requests.get(url).text\n",
    "buffer = StringIO(payload)\n",
    "\n",
    "for caption in webvtt.read_buffer(buffer):\n",
    "    print(caption.start)\n",
    "    print(caption.end)\n",
    "    print(caption.text)"
   ]
  },
  {
   "cell_type": "code",
   "execution_count": 1,
   "metadata": {},
   "outputs": [
    {
     "name": "stdout",
     "output_type": "stream",
     "text": [
      "From 00:01:14.815 to 00:01:18.114\n",
      "- What?\n",
      "- Where are we now?\n",
      "From 00:01:18.171 to 00:01:20.991\n",
      "- This is big bat country.\n",
      "From 00:01:21.058 to 00:01:23.868\n",
      "- [ Bats Screeching ]\n",
      "- They won't get in your hair. They're after the bugs.\n"
     ]
    }
   ],
   "source": [
    "import webvtt\n",
    "# we can iterate over the captions\n",
    "for caption in webvtt.read('test.vtt'):\n",
    "    print(f'From {caption.start} to {caption.end}')\n",
    "    print(caption.text)"
   ]
  },
  {
   "cell_type": "code",
   "execution_count": 2,
   "metadata": {},
   "outputs": [
    {
     "data": {
      "text/plain": [
       "<Caption start=00:01:14.815 end=00:01:18.114 text=- What?\\n- Where are we now?>"
      ]
     },
     "execution_count": 2,
     "metadata": {},
     "output_type": "execute_result"
    }
   ],
   "source": [
    "vtt = webvtt.read('test.vtt')\n",
    "vtt[0]"
   ]
  },
  {
   "cell_type": "code",
   "execution_count": 3,
   "metadata": {},
   "outputs": [
    {
     "data": {
      "text/plain": [
       "3"
      ]
     },
     "execution_count": 3,
     "metadata": {},
     "output_type": "execute_result"
    }
   ],
   "source": [
    "len(vtt)"
   ]
  },
  {
   "cell_type": "code",
   "execution_count": 4,
   "metadata": {},
   "outputs": [
    {
     "data": {
      "text/plain": [
       "'00:01:14.815'"
      ]
     },
     "execution_count": 4,
     "metadata": {},
     "output_type": "execute_result"
    }
   ],
   "source": [
    "vtt[0].start"
   ]
  },
  {
   "cell_type": "code",
   "execution_count": 5,
   "metadata": {},
   "outputs": [
    {
     "data": {
      "text/plain": [
       "time.struct_time(tm_year=1900, tm_mon=1, tm_mday=1, tm_hour=0, tm_min=1, tm_sec=14, tm_wday=0, tm_yday=1, tm_isdst=-1)"
      ]
     },
     "execution_count": 5,
     "metadata": {},
     "output_type": "execute_result"
    }
   ],
   "source": [
    "import time\n",
    "\n",
    "time.strptime(vtt[0].start, \"%H:%M:%S.%f\")"
   ]
  },
  {
   "cell_type": "code",
   "execution_count": 6,
   "metadata": {},
   "outputs": [
    {
     "name": "stdout",
     "output_type": "stream",
     "text": [
      "- What?\n",
      "- Where are we now?\n"
     ]
    }
   ],
   "source": [
    "# you can also iterate over the lines of a particular caption\n",
    "for line in vtt[0].lines:\n",
    "    print(line)"
   ]
  },
  {
   "cell_type": "code",
   "execution_count": 7,
   "metadata": {},
   "outputs": [
    {
     "data": {
      "text/plain": [
       "'- What?\\n- Where are we now?'"
      ]
     },
     "execution_count": 7,
     "metadata": {},
     "output_type": "execute_result"
    }
   ],
   "source": [
    "# caption text is returned clean without class tags\n",
    "# we can access the raw text of a caption with raw_text\n",
    "vtt[0].text"
   ]
  },
  {
   "cell_type": "code",
   "execution_count": 8,
   "metadata": {},
   "outputs": [
    {
     "data": {
      "text/plain": [
       "'- What?\\n- Where are we now?'"
      ]
     },
     "execution_count": 8,
     "metadata": {},
     "output_type": "execute_result"
    }
   ],
   "source": [
    "vtt[0].raw_text"
   ]
  },
  {
   "cell_type": "code",
   "execution_count": 9,
   "metadata": {},
   "outputs": [
    {
     "data": {
      "text/html": [
       "<div>\n",
       "<style scoped>\n",
       "    .dataframe tbody tr th:only-of-type {\n",
       "        vertical-align: middle;\n",
       "    }\n",
       "\n",
       "    .dataframe tbody tr th {\n",
       "        vertical-align: top;\n",
       "    }\n",
       "\n",
       "    .dataframe thead th {\n",
       "        text-align: right;\n",
       "    }\n",
       "</style>\n",
       "<table border=\"1\" class=\"dataframe\">\n",
       "  <thead>\n",
       "    <tr style=\"text-align: right;\">\n",
       "      <th></th>\n",
       "      <th>start</th>\n",
       "      <th>end</th>\n",
       "      <th>text</th>\n",
       "    </tr>\n",
       "  </thead>\n",
       "  <tbody>\n",
       "    <tr>\n",
       "      <th>0</th>\n",
       "      <td>00:01:14.815</td>\n",
       "      <td>00:01:18.114</td>\n",
       "      <td>- What?\\n- Where are we now?</td>\n",
       "    </tr>\n",
       "    <tr>\n",
       "      <th>1</th>\n",
       "      <td>00:01:18.171</td>\n",
       "      <td>00:01:20.991</td>\n",
       "      <td>- This is big bat country.</td>\n",
       "    </tr>\n",
       "    <tr>\n",
       "      <th>2</th>\n",
       "      <td>00:01:21.058</td>\n",
       "      <td>00:01:23.868</td>\n",
       "      <td>- [ Bats Screeching ]\\n- They won't get in you...</td>\n",
       "    </tr>\n",
       "  </tbody>\n",
       "</table>\n",
       "</div>"
      ],
      "text/plain": [
       "          start           end  \\\n",
       "0  00:01:14.815  00:01:18.114   \n",
       "1  00:01:18.171  00:01:20.991   \n",
       "2  00:01:21.058  00:01:23.868   \n",
       "\n",
       "                                                text  \n",
       "0                       - What?\\n- Where are we now?  \n",
       "1                         - This is big bat country.  \n",
       "2  - [ Bats Screeching ]\\n- They won't get in you...  "
      ]
     },
     "execution_count": 9,
     "metadata": {},
     "output_type": "execute_result"
    }
   ],
   "source": [
    "import pandas as pd\n",
    "start = [v.start for v in vtt]\n",
    "end = [v.end for v in vtt]\n",
    "text = [v.text for v in vtt]\n",
    "# pd.DataFrame(list(zip(start,end,text)),columns=['start','end','text'])\n",
    "# dictionary of lists \n",
    "dict = {'start': start, 'end': end, 'text': text} \n",
    "df = pd.DataFrame(dict)\n",
    "df"
   ]
  },
  {
   "cell_type": "code",
   "execution_count": 10,
   "metadata": {},
   "outputs": [
    {
     "data": {
      "text/html": [
       "<div>\n",
       "<style scoped>\n",
       "    .dataframe tbody tr th:only-of-type {\n",
       "        vertical-align: middle;\n",
       "    }\n",
       "\n",
       "    .dataframe tbody tr th {\n",
       "        vertical-align: top;\n",
       "    }\n",
       "\n",
       "    .dataframe thead th {\n",
       "        text-align: right;\n",
       "    }\n",
       "</style>\n",
       "<table border=\"1\" class=\"dataframe\">\n",
       "  <thead>\n",
       "    <tr style=\"text-align: right;\">\n",
       "      <th></th>\n",
       "      <th>date</th>\n",
       "      <th>time</th>\n",
       "      <th>a</th>\n",
       "      <th>b</th>\n",
       "    </tr>\n",
       "  </thead>\n",
       "  <tbody>\n",
       "    <tr>\n",
       "      <th>2016-11-13 20:00:10.617989120</th>\n",
       "      <td>2016-11-13</td>\n",
       "      <td>20:00:10.617989120</td>\n",
       "      <td>7.0</td>\n",
       "      <td>132.0</td>\n",
       "    </tr>\n",
       "    <tr>\n",
       "      <th>2016-11-13 22:00:00.022737152</th>\n",
       "      <td>2016-11-13</td>\n",
       "      <td>22:00:00.022737152</td>\n",
       "      <td>1.0</td>\n",
       "      <td>128.0</td>\n",
       "    </tr>\n",
       "    <tr>\n",
       "      <th>2016-11-13 22:00:28.417561344</th>\n",
       "      <td>2016-11-13</td>\n",
       "      <td>22:00:28.417561344</td>\n",
       "      <td>1.0</td>\n",
       "      <td>132.0</td>\n",
       "    </tr>\n",
       "  </tbody>\n",
       "</table>\n",
       "</div>"
      ],
      "text/plain": [
       "                                     date                time    a      b\n",
       "2016-11-13 20:00:10.617989120  2016-11-13  20:00:10.617989120  7.0  132.0\n",
       "2016-11-13 22:00:00.022737152  2016-11-13  22:00:00.022737152  1.0  128.0\n",
       "2016-11-13 22:00:28.417561344  2016-11-13  22:00:28.417561344  1.0  132.0"
      ]
     },
     "execution_count": 10,
     "metadata": {},
     "output_type": "execute_result"
    }
   ],
   "source": [
    "# No header (option header=None)\n",
    "df = pd.read_csv(\"timestamps.txt\",sep=' ',names=['date','time','a','b'])\n",
    "# df['datetime'] = pd.to_datetime(df['date']+ \" \" + df['time'])\n",
    "df.index = pd.to_datetime(df['date']+ \" \" + df['time'])\n",
    "df"
   ]
  },
  {
   "cell_type": "code",
   "execution_count": 11,
   "metadata": {},
   "outputs": [
    {
     "data": {
      "text/plain": [
       "2"
      ]
     },
     "execution_count": 11,
     "metadata": {},
     "output_type": "execute_result"
    }
   ],
   "source": [
    "dt = pd.to_datetime(\"2016-11-13 22:01:25.450\")\n",
    "df.index.get_loc(dt, method='nearest')"
   ]
  },
  {
   "cell_type": "markdown",
   "metadata": {},
   "source": [
    "https://stackoverflow.com/questions/42264848/pandas-dataframe-how-to-query-the-closest-datetime-index"
   ]
  }
 ],
 "metadata": {
  "interpreter": {
   "hash": "ef9df58e4d682d0c8b221b9d23082a30d7c3ec751e2b60da74cce18f8c89c66e"
  },
  "kernelspec": {
   "display_name": "Python 3.9.1 64-bit ('env': venv)",
   "language": "python",
   "name": "python3"
  },
  "language_info": {
   "codemirror_mode": {
    "name": "ipython",
    "version": 3
   },
   "file_extension": ".py",
   "mimetype": "text/x-python",
   "name": "python",
   "nbconvert_exporter": "python",
   "pygments_lexer": "ipython3",
   "version": "3.9.1"
  },
  "orig_nbformat": 4
 },
 "nbformat": 4,
 "nbformat_minor": 2
}
